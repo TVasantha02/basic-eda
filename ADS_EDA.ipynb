{
  "nbformat": 4,
  "nbformat_minor": 0,
  "metadata": {
    "colab": {
      "name": "ads.ipynb",
      "provenance": [],
      "collapsed_sections": [],
      "include_colab_link": true
    },
    "kernelspec": {
      "name": "python3",
      "display_name": "Python 3"
    },
    "language_info": {
      "name": "python"
    }
  },
  "cells": [
    {
      "cell_type": "markdown",
      "metadata": {
        "id": "view-in-github",
        "colab_type": "text"
      },
      "source": [
        "<a href=\"https://colab.research.google.com/github/vasantha19/basic-eda/blob/main/ADS_EDA.ipynb\" target=\"_parent\"><img src=\"https://colab.research.google.com/assets/colab-badge.svg\" alt=\"Open In Colab\"/></a>"
      ]
    },
    {
      "cell_type": "markdown",
      "source": [
        "**IMPORT NECCESSARY PACKAGES**"
      ],
      "metadata": {
        "id": "Qt6pSiDS_9ZR"
      }
    },
    {
      "cell_type": "code",
      "execution_count": 1,
      "metadata": {
        "id": "s_UJ056o8to7"
      },
      "outputs": [],
      "source": [
        "import numpy as np\n",
        "import pandas as pd\n",
        "import seaborn as sns\n",
        "from matplotlib import pyplot as plt"
      ]
    },
    {
      "cell_type": "markdown",
      "source": [
        "**IMPORT NECESSARY DATASETS**"
      ],
      "metadata": {
        "id": "AFmku0bsAKYC"
      }
    },
    {
      "cell_type": "code",
      "source": [
        "a=pd.read_csv(\"ppp_data_dict.csv\")\n",
        "b=pd.read_csv(\"ppp_fraud_cases.csv\")\n",
        "c=pd.read_csv(\"ppp_over_150k.csv\")\n",
        "a.head()\n",
        "b.head()\n",
        "c.head()"
      ],
      "metadata": {
        "colab": {
          "base_uri": "https://localhost:8080/",
          "height": 386
        },
        "id": "XKFAvt3I-Gdd",
        "outputId": "3c00d8ea-8a36-49e8-9578-ad420ff6a5e2"
      },
      "execution_count": 4,
      "outputs": [
        {
          "output_type": "execute_result",
          "data": {
            "text/plain": [
              "   LoanNumber DateApproved  SBAOfficeCode ProcessingMethod  \\\n",
              "0  9547507704   2020-05-01            464              PPP   \n",
              "1  9777677704   2020-05-01            464              PPP   \n",
              "2  5791407702   2020-05-01           1013              PPP   \n",
              "3  6223567700   2020-05-01            920              PPP   \n",
              "4  9662437702   2020-05-01            101              PPP   \n",
              "\n",
              "               BorrowerName        BorrowerAddress      BorrowerCity  \\\n",
              "0       sumter coatings inc  2410 highway 15 south            sumter   \n",
              "1       pleasant places inc    7684 southrail road  north charleston   \n",
              "2    boyer childrens clinic       1850 boyer ave e           seattle   \n",
              "3  kirtley construction inc   1661 martin ranch rd    san bernardino   \n",
              "4              aero box llc                unknown           unknown   \n",
              "\n",
              "  BorrowerState BorrowerZip LoanStatusDate  ... TOTAL_PROCEED  PROCEED_Diff  \\\n",
              "0           UNK  29150-9662     2020-12-18  ...     769358.78           0.0   \n",
              "1           UNK  29420-9000     2021-09-28  ...     736927.79           0.0   \n",
              "2           UNK  98112-2922     2021-03-17  ...     691355.00           0.0   \n",
              "3           UNK  92407-1740     2021-10-16  ...     499871.00           0.0   \n",
              "4           UNK           0     2021-08-17  ...     367437.00           0.0   \n",
              "\n",
              "   UTILITIES_PROCEED_pct  PAYROLL_PROCEED_pct  MORTGAGE_INTEREST_PROCEED_pct  \\\n",
              "0                    0.0                  1.0                            0.0   \n",
              "1                    0.0                  1.0                            0.0   \n",
              "2                    0.0                  1.0                            0.0   \n",
              "3                    0.0                  1.0                            0.0   \n",
              "4                    0.0                  1.0                            0.0   \n",
              "\n",
              "   RENT_PROCEED_pct REFINANCE_EIDL_PROCEED_pct  HEALTH_CARE_PROCEED_pct  \\\n",
              "0               0.0                        0.0                      0.0   \n",
              "1               0.0                        0.0                      0.0   \n",
              "2               0.0                        0.0                      0.0   \n",
              "3               0.0                        0.0                      0.0   \n",
              "4               0.0                        0.0                      0.0   \n",
              "\n",
              "  DEBT_INTEREST_PROCEED_pct PROCEED_Per_Job  \n",
              "0                       0.0        12409.01  \n",
              "1                       0.0        10094.90  \n",
              "2                       0.0         9218.07  \n",
              "3                       0.0        23803.38  \n",
              "4                       0.0        14697.48  \n",
              "\n",
              "[5 rows x 66 columns]"
            ],
            "text/html": [
              "\n",
              "  <div id=\"df-86d92aa5-9bc5-44eb-9ec1-856c863c171b\">\n",
              "    <div class=\"colab-df-container\">\n",
              "      <div>\n",
              "<style scoped>\n",
              "    .dataframe tbody tr th:only-of-type {\n",
              "        vertical-align: middle;\n",
              "    }\n",
              "\n",
              "    .dataframe tbody tr th {\n",
              "        vertical-align: top;\n",
              "    }\n",
              "\n",
              "    .dataframe thead th {\n",
              "        text-align: right;\n",
              "    }\n",
              "</style>\n",
              "<table border=\"1\" class=\"dataframe\">\n",
              "  <thead>\n",
              "    <tr style=\"text-align: right;\">\n",
              "      <th></th>\n",
              "      <th>LoanNumber</th>\n",
              "      <th>DateApproved</th>\n",
              "      <th>SBAOfficeCode</th>\n",
              "      <th>ProcessingMethod</th>\n",
              "      <th>BorrowerName</th>\n",
              "      <th>BorrowerAddress</th>\n",
              "      <th>BorrowerCity</th>\n",
              "      <th>BorrowerState</th>\n",
              "      <th>BorrowerZip</th>\n",
              "      <th>LoanStatusDate</th>\n",
              "      <th>...</th>\n",
              "      <th>TOTAL_PROCEED</th>\n",
              "      <th>PROCEED_Diff</th>\n",
              "      <th>UTILITIES_PROCEED_pct</th>\n",
              "      <th>PAYROLL_PROCEED_pct</th>\n",
              "      <th>MORTGAGE_INTEREST_PROCEED_pct</th>\n",
              "      <th>RENT_PROCEED_pct</th>\n",
              "      <th>REFINANCE_EIDL_PROCEED_pct</th>\n",
              "      <th>HEALTH_CARE_PROCEED_pct</th>\n",
              "      <th>DEBT_INTEREST_PROCEED_pct</th>\n",
              "      <th>PROCEED_Per_Job</th>\n",
              "    </tr>\n",
              "  </thead>\n",
              "  <tbody>\n",
              "    <tr>\n",
              "      <th>0</th>\n",
              "      <td>9547507704</td>\n",
              "      <td>2020-05-01</td>\n",
              "      <td>464</td>\n",
              "      <td>PPP</td>\n",
              "      <td>sumter coatings inc</td>\n",
              "      <td>2410 highway 15 south</td>\n",
              "      <td>sumter</td>\n",
              "      <td>UNK</td>\n",
              "      <td>29150-9662</td>\n",
              "      <td>2020-12-18</td>\n",
              "      <td>...</td>\n",
              "      <td>769358.78</td>\n",
              "      <td>0.0</td>\n",
              "      <td>0.0</td>\n",
              "      <td>1.0</td>\n",
              "      <td>0.0</td>\n",
              "      <td>0.0</td>\n",
              "      <td>0.0</td>\n",
              "      <td>0.0</td>\n",
              "      <td>0.0</td>\n",
              "      <td>12409.01</td>\n",
              "    </tr>\n",
              "    <tr>\n",
              "      <th>1</th>\n",
              "      <td>9777677704</td>\n",
              "      <td>2020-05-01</td>\n",
              "      <td>464</td>\n",
              "      <td>PPP</td>\n",
              "      <td>pleasant places inc</td>\n",
              "      <td>7684 southrail road</td>\n",
              "      <td>north charleston</td>\n",
              "      <td>UNK</td>\n",
              "      <td>29420-9000</td>\n",
              "      <td>2021-09-28</td>\n",
              "      <td>...</td>\n",
              "      <td>736927.79</td>\n",
              "      <td>0.0</td>\n",
              "      <td>0.0</td>\n",
              "      <td>1.0</td>\n",
              "      <td>0.0</td>\n",
              "      <td>0.0</td>\n",
              "      <td>0.0</td>\n",
              "      <td>0.0</td>\n",
              "      <td>0.0</td>\n",
              "      <td>10094.90</td>\n",
              "    </tr>\n",
              "    <tr>\n",
              "      <th>2</th>\n",
              "      <td>5791407702</td>\n",
              "      <td>2020-05-01</td>\n",
              "      <td>1013</td>\n",
              "      <td>PPP</td>\n",
              "      <td>boyer childrens clinic</td>\n",
              "      <td>1850 boyer ave e</td>\n",
              "      <td>seattle</td>\n",
              "      <td>UNK</td>\n",
              "      <td>98112-2922</td>\n",
              "      <td>2021-03-17</td>\n",
              "      <td>...</td>\n",
              "      <td>691355.00</td>\n",
              "      <td>0.0</td>\n",
              "      <td>0.0</td>\n",
              "      <td>1.0</td>\n",
              "      <td>0.0</td>\n",
              "      <td>0.0</td>\n",
              "      <td>0.0</td>\n",
              "      <td>0.0</td>\n",
              "      <td>0.0</td>\n",
              "      <td>9218.07</td>\n",
              "    </tr>\n",
              "    <tr>\n",
              "      <th>3</th>\n",
              "      <td>6223567700</td>\n",
              "      <td>2020-05-01</td>\n",
              "      <td>920</td>\n",
              "      <td>PPP</td>\n",
              "      <td>kirtley construction inc</td>\n",
              "      <td>1661 martin ranch rd</td>\n",
              "      <td>san bernardino</td>\n",
              "      <td>UNK</td>\n",
              "      <td>92407-1740</td>\n",
              "      <td>2021-10-16</td>\n",
              "      <td>...</td>\n",
              "      <td>499871.00</td>\n",
              "      <td>0.0</td>\n",
              "      <td>0.0</td>\n",
              "      <td>1.0</td>\n",
              "      <td>0.0</td>\n",
              "      <td>0.0</td>\n",
              "      <td>0.0</td>\n",
              "      <td>0.0</td>\n",
              "      <td>0.0</td>\n",
              "      <td>23803.38</td>\n",
              "    </tr>\n",
              "    <tr>\n",
              "      <th>4</th>\n",
              "      <td>9662437702</td>\n",
              "      <td>2020-05-01</td>\n",
              "      <td>101</td>\n",
              "      <td>PPP</td>\n",
              "      <td>aero box llc</td>\n",
              "      <td>unknown</td>\n",
              "      <td>unknown</td>\n",
              "      <td>UNK</td>\n",
              "      <td>0</td>\n",
              "      <td>2021-08-17</td>\n",
              "      <td>...</td>\n",
              "      <td>367437.00</td>\n",
              "      <td>0.0</td>\n",
              "      <td>0.0</td>\n",
              "      <td>1.0</td>\n",
              "      <td>0.0</td>\n",
              "      <td>0.0</td>\n",
              "      <td>0.0</td>\n",
              "      <td>0.0</td>\n",
              "      <td>0.0</td>\n",
              "      <td>14697.48</td>\n",
              "    </tr>\n",
              "  </tbody>\n",
              "</table>\n",
              "<p>5 rows × 66 columns</p>\n",
              "</div>\n",
              "      <button class=\"colab-df-convert\" onclick=\"convertToInteractive('df-86d92aa5-9bc5-44eb-9ec1-856c863c171b')\"\n",
              "              title=\"Convert this dataframe to an interactive table.\"\n",
              "              style=\"display:none;\">\n",
              "        \n",
              "  <svg xmlns=\"http://www.w3.org/2000/svg\" height=\"24px\"viewBox=\"0 0 24 24\"\n",
              "       width=\"24px\">\n",
              "    <path d=\"M0 0h24v24H0V0z\" fill=\"none\"/>\n",
              "    <path d=\"M18.56 5.44l.94 2.06.94-2.06 2.06-.94-2.06-.94-.94-2.06-.94 2.06-2.06.94zm-11 1L8.5 8.5l.94-2.06 2.06-.94-2.06-.94L8.5 2.5l-.94 2.06-2.06.94zm10 10l.94 2.06.94-2.06 2.06-.94-2.06-.94-.94-2.06-.94 2.06-2.06.94z\"/><path d=\"M17.41 7.96l-1.37-1.37c-.4-.4-.92-.59-1.43-.59-.52 0-1.04.2-1.43.59L10.3 9.45l-7.72 7.72c-.78.78-.78 2.05 0 2.83L4 21.41c.39.39.9.59 1.41.59.51 0 1.02-.2 1.41-.59l7.78-7.78 2.81-2.81c.8-.78.8-2.07 0-2.86zM5.41 20L4 18.59l7.72-7.72 1.47 1.35L5.41 20z\"/>\n",
              "  </svg>\n",
              "      </button>\n",
              "      \n",
              "  <style>\n",
              "    .colab-df-container {\n",
              "      display:flex;\n",
              "      flex-wrap:wrap;\n",
              "      gap: 12px;\n",
              "    }\n",
              "\n",
              "    .colab-df-convert {\n",
              "      background-color: #E8F0FE;\n",
              "      border: none;\n",
              "      border-radius: 50%;\n",
              "      cursor: pointer;\n",
              "      display: none;\n",
              "      fill: #1967D2;\n",
              "      height: 32px;\n",
              "      padding: 0 0 0 0;\n",
              "      width: 32px;\n",
              "    }\n",
              "\n",
              "    .colab-df-convert:hover {\n",
              "      background-color: #E2EBFA;\n",
              "      box-shadow: 0px 1px 2px rgba(60, 64, 67, 0.3), 0px 1px 3px 1px rgba(60, 64, 67, 0.15);\n",
              "      fill: #174EA6;\n",
              "    }\n",
              "\n",
              "    [theme=dark] .colab-df-convert {\n",
              "      background-color: #3B4455;\n",
              "      fill: #D2E3FC;\n",
              "    }\n",
              "\n",
              "    [theme=dark] .colab-df-convert:hover {\n",
              "      background-color: #434B5C;\n",
              "      box-shadow: 0px 1px 3px 1px rgba(0, 0, 0, 0.15);\n",
              "      filter: drop-shadow(0px 1px 2px rgba(0, 0, 0, 0.3));\n",
              "      fill: #FFFFFF;\n",
              "    }\n",
              "  </style>\n",
              "\n",
              "      <script>\n",
              "        const buttonEl =\n",
              "          document.querySelector('#df-86d92aa5-9bc5-44eb-9ec1-856c863c171b button.colab-df-convert');\n",
              "        buttonEl.style.display =\n",
              "          google.colab.kernel.accessAllowed ? 'block' : 'none';\n",
              "\n",
              "        async function convertToInteractive(key) {\n",
              "          const element = document.querySelector('#df-86d92aa5-9bc5-44eb-9ec1-856c863c171b');\n",
              "          const dataTable =\n",
              "            await google.colab.kernel.invokeFunction('convertToInteractive',\n",
              "                                                     [key], {});\n",
              "          if (!dataTable) return;\n",
              "\n",
              "          const docLinkHtml = 'Like what you see? Visit the ' +\n",
              "            '<a target=\"_blank\" href=https://colab.research.google.com/notebooks/data_table.ipynb>data table notebook</a>'\n",
              "            + ' to learn more about interactive tables.';\n",
              "          element.innerHTML = '';\n",
              "          dataTable['output_type'] = 'display_data';\n",
              "          await google.colab.output.renderOutput(dataTable, element);\n",
              "          const docLink = document.createElement('div');\n",
              "          docLink.innerHTML = docLinkHtml;\n",
              "          element.appendChild(docLink);\n",
              "        }\n",
              "      </script>\n",
              "    </div>\n",
              "  </div>\n",
              "  "
            ]
          },
          "metadata": {},
          "execution_count": 4
        }
      ]
    },
    {
      "cell_type": "markdown",
      "source": [
        "**KNOWING THE DIMENSIONS**"
      ],
      "metadata": {
        "id": "HiwTuGB5NFfG"
      }
    },
    {
      "cell_type": "code",
      "source": [
        "print(a.shape)\n",
        "print(b.shape)\n",
        "print(c.shape)"
      ],
      "metadata": {
        "colab": {
          "base_uri": "https://localhost:8080/"
        },
        "id": "zjxwIyVEGPVt",
        "outputId": "fc251837-2357-48c6-ab75-8f2a098b07a8"
      },
      "execution_count": 13,
      "outputs": [
        {
          "output_type": "stream",
          "name": "stdout",
          "text": [
            "(66, 2)\n",
            "(100, 4)\n",
            "(12874, 66)\n"
          ]
        }
      ]
    },
    {
      "cell_type": "markdown",
      "source": [
        "**KNOWING THE FEATURES IN a,b,c**"
      ],
      "metadata": {
        "id": "9LaZlKiPNKr9"
      }
    },
    {
      "cell_type": "code",
      "source": [
        "print(\"Number of features in a:\",len(a.keys()))\n",
        "print(\"Number of features in b:\",len(b.keys()))\n",
        "print(\"Number of features in c:\",len(c.keys()))"
      ],
      "metadata": {
        "colab": {
          "base_uri": "https://localhost:8080/"
        },
        "id": "FZpx1Xh7Gcrd",
        "outputId": "dd2c5738-f846-497f-b79a-ccf6e4b646e7"
      },
      "execution_count": 14,
      "outputs": [
        {
          "output_type": "stream",
          "name": "stdout",
          "text": [
            "Number of features in a: 2\n",
            "Number of features in b: 4\n",
            "Number of features in c: 66\n"
          ]
        }
      ]
    },
    {
      "cell_type": "code",
      "source": [
        "c.BorrowerState.value_counts()"
      ],
      "metadata": {
        "colab": {
          "base_uri": "https://localhost:8080/"
        },
        "id": "D7On_FfNG63q",
        "outputId": "8ff46374-09b0-4684-d18e-6d41336f89df"
      },
      "execution_count": 16,
      "outputs": [
        {
          "output_type": "execute_result",
          "data": {
            "text/plain": [
              "AL     10198\n",
              "AK      2663\n",
              "UNK       13\n",
              "Name: BorrowerState, dtype: int64"
            ]
          },
          "metadata": {},
          "execution_count": 16
        }
      ]
    },
    {
      "cell_type": "markdown",
      "source": [
        "**DATA SOURCING**"
      ],
      "metadata": {
        "id": "UlNLbWiYNczo"
      }
    },
    {
      "cell_type": "code",
      "source": [
        "a.info()\n",
        "b.info()\n",
        "c.info()"
      ],
      "metadata": {
        "colab": {
          "base_uri": "https://localhost:8080/"
        },
        "id": "WGcMNetH_zfc",
        "outputId": "32f9507d-ef83-4935-afe2-c3c57ac05767"
      },
      "execution_count": 5,
      "outputs": [
        {
          "output_type": "stream",
          "name": "stdout",
          "text": [
            "<class 'pandas.core.frame.DataFrame'>\n",
            "RangeIndex: 66 entries, 0 to 65\n",
            "Data columns (total 2 columns):\n",
            " #   Column             Non-Null Count  Dtype \n",
            "---  ------             --------------  ----- \n",
            " 0   Field Name         66 non-null     object\n",
            " 1   Field Description  66 non-null     object\n",
            "dtypes: object(2)\n",
            "memory usage: 1.2+ KB\n",
            "<class 'pandas.core.frame.DataFrame'>\n",
            "RangeIndex: 100 entries, 0 to 99\n",
            "Data columns (total 4 columns):\n",
            " #   Column    Non-Null Count  Dtype \n",
            "---  ------    --------------  ----- \n",
            " 0   Company   100 non-null    object\n",
            " 1   State     100 non-null    object\n",
            " 2   Source    100 non-null    object\n",
            " 3   Suspects  100 non-null    object\n",
            "dtypes: object(4)\n",
            "memory usage: 3.2+ KB\n",
            "<class 'pandas.core.frame.DataFrame'>\n",
            "RangeIndex: 12874 entries, 0 to 12873\n",
            "Data columns (total 66 columns):\n",
            " #   Column                         Non-Null Count  Dtype  \n",
            "---  ------                         --------------  -----  \n",
            " 0   LoanNumber                     12874 non-null  int64  \n",
            " 1   DateApproved                   12874 non-null  object \n",
            " 2   SBAOfficeCode                  12874 non-null  int64  \n",
            " 3   ProcessingMethod               12874 non-null  object \n",
            " 4   BorrowerName                   12874 non-null  object \n",
            " 5   BorrowerAddress                12874 non-null  object \n",
            " 6   BorrowerCity                   12874 non-null  object \n",
            " 7   BorrowerState                  12874 non-null  object \n",
            " 8   BorrowerZip                    12874 non-null  object \n",
            " 9   LoanStatusDate                 12874 non-null  object \n",
            " 10  LoanStatus                     12874 non-null  object \n",
            " 11  Term                           12874 non-null  int64  \n",
            " 12  SBAGuarantyPercentage          12874 non-null  int64  \n",
            " 13  InitialApprovalAmount          12874 non-null  float64\n",
            " 14  CurrentApprovalAmount          12874 non-null  float64\n",
            " 15  UndisbursedAmount              12873 non-null  float64\n",
            " 16  FranchiseName                  12873 non-null  object \n",
            " 17  ServicingLenderLocationID      12873 non-null  float64\n",
            " 18  ServicingLenderName            12873 non-null  object \n",
            " 19  ServicingLenderAddress         12873 non-null  object \n",
            " 20  ServicingLenderCity            12873 non-null  object \n",
            " 21  ServicingLenderState           12873 non-null  object \n",
            " 22  ServicingLenderZip             12873 non-null  object \n",
            " 23  RuralUrbanIndicator            12873 non-null  object \n",
            " 24  HubzoneIndicator               12873 non-null  object \n",
            " 25  LMIIndicator                   12873 non-null  object \n",
            " 26  BusinessAgeDescription         12873 non-null  object \n",
            " 27  ProjectCity                    12873 non-null  object \n",
            " 28  ProjectCountyName              12873 non-null  object \n",
            " 29  ProjectState                   12873 non-null  object \n",
            " 30  ProjectZip                     12873 non-null  object \n",
            " 31  CD                             12873 non-null  object \n",
            " 32  JobsReported                   12873 non-null  float64\n",
            " 33  NAICSCode                      12873 non-null  float64\n",
            " 34  Race                           12873 non-null  object \n",
            " 35  Ethnicity                      12873 non-null  object \n",
            " 36  UTILITIES_PROCEED              12873 non-null  float64\n",
            " 37  PAYROLL_PROCEED                12873 non-null  float64\n",
            " 38  MORTGAGE_INTEREST_PROCEED      12873 non-null  float64\n",
            " 39  RENT_PROCEED                   12873 non-null  float64\n",
            " 40  REFINANCE_EIDL_PROCEED         12873 non-null  float64\n",
            " 41  HEALTH_CARE_PROCEED            12873 non-null  float64\n",
            " 42  DEBT_INTEREST_PROCEED          12873 non-null  float64\n",
            " 43  BusinessType                   12873 non-null  object \n",
            " 44  OriginatingLenderLocationID    12873 non-null  float64\n",
            " 45  OriginatingLender              12873 non-null  object \n",
            " 46  OriginatingLenderCity          12873 non-null  object \n",
            " 47  OriginatingLenderState         12873 non-null  object \n",
            " 48  Gender                         12873 non-null  object \n",
            " 49  Veteran                        12873 non-null  object \n",
            " 50  NonProfit                      12873 non-null  object \n",
            " 51  ForgivenessAmount              12873 non-null  float64\n",
            " 52  ForgivenessDate                12873 non-null  object \n",
            " 53  ApprovalDiff                   12873 non-null  float64\n",
            " 54  NotForgivenAmount              12873 non-null  float64\n",
            " 55  ForgivenPercentage             12873 non-null  float64\n",
            " 56  TOTAL_PROCEED                  12873 non-null  float64\n",
            " 57  PROCEED_Diff                   12873 non-null  float64\n",
            " 58  UTILITIES_PROCEED_pct          12873 non-null  float64\n",
            " 59  PAYROLL_PROCEED_pct            12873 non-null  float64\n",
            " 60  MORTGAGE_INTEREST_PROCEED_pct  12873 non-null  float64\n",
            " 61  RENT_PROCEED_pct               12873 non-null  float64\n",
            " 62  REFINANCE_EIDL_PROCEED_pct     12873 non-null  float64\n",
            " 63  HEALTH_CARE_PROCEED_pct        12873 non-null  float64\n",
            " 64  DEBT_INTEREST_PROCEED_pct      12873 non-null  float64\n",
            " 65  PROCEED_Per_Job                12873 non-null  float64\n",
            "dtypes: float64(28), int64(4), object(34)\n",
            "memory usage: 6.5+ MB\n"
          ]
        }
      ]
    },
    {
      "cell_type": "markdown",
      "source": [
        "**REPLACING STRING BY NUMBERS**"
      ],
      "metadata": {
        "id": "Mlhz0BnXNU_y"
      }
    },
    {
      "cell_type": "code",
      "source": [
        "c.isnull().sum()"
      ],
      "metadata": {
        "colab": {
          "base_uri": "https://localhost:8080/"
        },
        "id": "nihLMov6HeJt",
        "outputId": "04e9875e-4f59-4785-90ad-6d4be96ec631"
      },
      "execution_count": 19,
      "outputs": [
        {
          "output_type": "execute_result",
          "data": {
            "text/plain": [
              "LoanNumber                    0\n",
              "DateApproved                  0\n",
              "SBAOfficeCode                 0\n",
              "ProcessingMethod              0\n",
              "BorrowerName                  0\n",
              "                             ..\n",
              "RENT_PROCEED_pct              1\n",
              "REFINANCE_EIDL_PROCEED_pct    1\n",
              "HEALTH_CARE_PROCEED_pct       1\n",
              "DEBT_INTEREST_PROCEED_pct     1\n",
              "PROCEED_Per_Job               1\n",
              "Length: 66, dtype: int64"
            ]
          },
          "metadata": {},
          "execution_count": 19
        }
      ]
    },
    {
      "cell_type": "markdown",
      "source": [
        "**DATA CLEANING**"
      ],
      "metadata": {
        "id": "i2ac30YpK1e3"
      }
    },
    {
      "cell_type": "code",
      "source": [
        "c.isna().any()"
      ],
      "metadata": {
        "colab": {
          "base_uri": "https://localhost:8080/"
        },
        "id": "c1loSwKkHzdu",
        "outputId": "aae95d12-24f2-4dee-8d46-1db054e38f75"
      },
      "execution_count": 33,
      "outputs": [
        {
          "output_type": "execute_result",
          "data": {
            "text/plain": [
              "LoanNumber                    False\n",
              "DateApproved                  False\n",
              "SBAOfficeCode                 False\n",
              "ProcessingMethod              False\n",
              "BorrowerName                  False\n",
              "                              ...  \n",
              "RENT_PROCEED_pct               True\n",
              "REFINANCE_EIDL_PROCEED_pct     True\n",
              "HEALTH_CARE_PROCEED_pct        True\n",
              "DEBT_INTEREST_PROCEED_pct      True\n",
              "PROCEED_Per_Job                True\n",
              "Length: 66, dtype: bool"
            ]
          },
          "metadata": {},
          "execution_count": 33
        }
      ]
    },
    {
      "cell_type": "code",
      "source": [
        "c.columns[c.isnull().any()].tolist()"
      ],
      "metadata": {
        "colab": {
          "base_uri": "https://localhost:8080/"
        },
        "id": "NL19e5kRH43P",
        "outputId": "73f562e9-c4f7-4baf-8816-816a16026561"
      },
      "execution_count": 24,
      "outputs": [
        {
          "output_type": "execute_result",
          "data": {
            "text/plain": [
              "['UndisbursedAmount',\n",
              " 'FranchiseName',\n",
              " 'ServicingLenderLocationID',\n",
              " 'ServicingLenderName',\n",
              " 'ServicingLenderAddress',\n",
              " 'ServicingLenderCity',\n",
              " 'ServicingLenderState',\n",
              " 'ServicingLenderZip',\n",
              " 'RuralUrbanIndicator',\n",
              " 'HubzoneIndicator',\n",
              " 'LMIIndicator',\n",
              " 'BusinessAgeDescription',\n",
              " 'ProjectCity',\n",
              " 'ProjectCountyName',\n",
              " 'ProjectState',\n",
              " 'ProjectZip',\n",
              " 'CD',\n",
              " 'JobsReported',\n",
              " 'NAICSCode',\n",
              " 'Race',\n",
              " 'Ethnicity',\n",
              " 'UTILITIES_PROCEED',\n",
              " 'PAYROLL_PROCEED',\n",
              " 'MORTGAGE_INTEREST_PROCEED',\n",
              " 'RENT_PROCEED',\n",
              " 'REFINANCE_EIDL_PROCEED',\n",
              " 'HEALTH_CARE_PROCEED',\n",
              " 'DEBT_INTEREST_PROCEED',\n",
              " 'BusinessType',\n",
              " 'OriginatingLenderLocationID',\n",
              " 'OriginatingLender',\n",
              " 'OriginatingLenderCity',\n",
              " 'OriginatingLenderState',\n",
              " 'Gender',\n",
              " 'Veteran',\n",
              " 'NonProfit',\n",
              " 'ForgivenessAmount',\n",
              " 'ForgivenessDate',\n",
              " 'ApprovalDiff',\n",
              " 'NotForgivenAmount',\n",
              " 'ForgivenPercentage',\n",
              " 'TOTAL_PROCEED',\n",
              " 'PROCEED_Diff',\n",
              " 'UTILITIES_PROCEED_pct',\n",
              " 'PAYROLL_PROCEED_pct',\n",
              " 'MORTGAGE_INTEREST_PROCEED_pct',\n",
              " 'RENT_PROCEED_pct',\n",
              " 'REFINANCE_EIDL_PROCEED_pct',\n",
              " 'HEALTH_CARE_PROCEED_pct',\n",
              " 'DEBT_INTEREST_PROCEED_pct',\n",
              " 'PROCEED_Per_Job']"
            ]
          },
          "metadata": {},
          "execution_count": 24
        }
      ]
    },
    {
      "cell_type": "code",
      "source": [
        "a.describe()\n",
        "b.describe()\n",
        "c.describe()"
      ],
      "metadata": {
        "colab": {
          "base_uri": "https://localhost:8080/",
          "height": 394
        },
        "id": "kQvXpITfAUxf",
        "outputId": "463ab70a-49b6-44a9-f5e8-c20a26700a51"
      },
      "execution_count": 6,
      "outputs": [
        {
          "output_type": "execute_result",
          "data": {
            "text/plain": [
              "         LoanNumber  SBAOfficeCode          Term  SBAGuarantyPercentage  \\\n",
              "count  1.287400e+04   12874.000000  12874.000000                12874.0   \n",
              "mean   5.554688e+09     588.138185     35.114417                  100.0   \n",
              "std    2.481897e+09     253.475458     16.674447                    0.0   \n",
              "min    1.000627e+09     101.000000      2.000000                  100.0   \n",
              "25%    3.605138e+09     459.000000     24.000000                  100.0   \n",
              "50%    5.577797e+09     459.000000     24.000000                  100.0   \n",
              "75%    7.498411e+09     459.000000     60.000000                  100.0   \n",
              "max    9.997917e+09    1084.000000     60.000000                  100.0   \n",
              "\n",
              "       InitialApprovalAmount  CurrentApprovalAmount  UndisbursedAmount  \\\n",
              "count           1.287400e+04           1.287400e+04            12873.0   \n",
              "mean            5.290098e+05           5.299563e+05                0.0   \n",
              "std             7.277878e+05           7.284635e+05                0.0   \n",
              "min             1.700600e+04           1.000000e+00                0.0   \n",
              "25%             2.064005e+05           2.067027e+05                0.0   \n",
              "50%             3.010000e+05           3.016660e+05                0.0   \n",
              "75%             5.410853e+05           5.436081e+05                0.0   \n",
              "max             1.000000e+07           1.000000e+07                0.0   \n",
              "\n",
              "       ServicingLenderLocationID  JobsReported      NAICSCode  ...  \\\n",
              "count               12873.000000  12873.000000   12873.000000  ...   \n",
              "mean               152109.891634     52.855356  499379.320127  ...   \n",
              "std                180134.728570     64.976752  183737.173642  ...   \n",
              "min                    20.000000      1.000000      81.000000  ...   \n",
              "25%                  3498.000000     19.000000  333249.000000  ...   \n",
              "50%                 45120.000000     31.000000  532289.000000  ...   \n",
              "75%                434138.000000     56.000000  621399.000000  ...   \n",
              "max                530323.000000    500.000000  999990.000000  ...   \n",
              "\n",
              "       TOTAL_PROCEED  PROCEED_Diff  UTILITIES_PROCEED_pct  \\\n",
              "count   1.287300e+04  1.287300e+04           12873.000000   \n",
              "mean    5.299969e+05  5.607092e-01               0.011520   \n",
              "std     7.284769e+05  1.237077e+00               0.052738   \n",
              "min     1.499960e+05 -2.328306e-10               0.000000   \n",
              "25%     2.067067e+05  0.000000e+00               0.000000   \n",
              "50%     3.016694e+05  0.000000e+00               0.000000   \n",
              "75%     5.436775e+05  0.000000e+00               0.000000   \n",
              "max     1.000000e+07  6.000000e+00               1.000000   \n",
              "\n",
              "       PAYROLL_PROCEED_pct  MORTGAGE_INTEREST_PROCEED_pct  RENT_PROCEED_pct  \\\n",
              "count         12873.000000                   12873.000000      12873.000000   \n",
              "mean              0.968092                       0.004423          0.010336   \n",
              "std               0.091036                       0.032597          0.037358   \n",
              "min               0.000000                       0.000000          0.000000   \n",
              "25%               1.000000                       0.000000          0.000000   \n",
              "50%               1.000000                       0.000000          0.000000   \n",
              "75%               1.000000                       0.000000          0.000000   \n",
              "max               1.000000                       1.000000          1.000000   \n",
              "\n",
              "       REFINANCE_EIDL_PROCEED_pct  HEALTH_CARE_PROCEED_pct  \\\n",
              "count                12873.000000             12873.000000   \n",
              "mean                     0.000539                 0.003798   \n",
              "std                      0.021722                 0.025342   \n",
              "min                      0.000000                 0.000000   \n",
              "25%                      0.000000                 0.000000   \n",
              "50%                      0.000000                 0.000000   \n",
              "75%                      0.000000                 0.000000   \n",
              "max                      1.000000                 1.000000   \n",
              "\n",
              "       DEBT_INTEREST_PROCEED_pct  PROCEED_Per_Job  \n",
              "count               12873.000000     12873.000000  \n",
              "mean                    0.001292     11887.611575  \n",
              "std                     0.010291     13251.999855  \n",
              "min                     0.000000         0.000000  \n",
              "25%                     0.000000      7482.760000  \n",
              "50%                     0.000000     10468.890000  \n",
              "75%                     0.000000     14125.000000  \n",
              "max                     0.344000    856269.600000  \n",
              "\n",
              "[8 rows x 32 columns]"
            ],
            "text/html": [
              "\n",
              "  <div id=\"df-afa5442b-b49c-41cb-a503-6a5c59ecd49c\">\n",
              "    <div class=\"colab-df-container\">\n",
              "      <div>\n",
              "<style scoped>\n",
              "    .dataframe tbody tr th:only-of-type {\n",
              "        vertical-align: middle;\n",
              "    }\n",
              "\n",
              "    .dataframe tbody tr th {\n",
              "        vertical-align: top;\n",
              "    }\n",
              "\n",
              "    .dataframe thead th {\n",
              "        text-align: right;\n",
              "    }\n",
              "</style>\n",
              "<table border=\"1\" class=\"dataframe\">\n",
              "  <thead>\n",
              "    <tr style=\"text-align: right;\">\n",
              "      <th></th>\n",
              "      <th>LoanNumber</th>\n",
              "      <th>SBAOfficeCode</th>\n",
              "      <th>Term</th>\n",
              "      <th>SBAGuarantyPercentage</th>\n",
              "      <th>InitialApprovalAmount</th>\n",
              "      <th>CurrentApprovalAmount</th>\n",
              "      <th>UndisbursedAmount</th>\n",
              "      <th>ServicingLenderLocationID</th>\n",
              "      <th>JobsReported</th>\n",
              "      <th>NAICSCode</th>\n",
              "      <th>...</th>\n",
              "      <th>TOTAL_PROCEED</th>\n",
              "      <th>PROCEED_Diff</th>\n",
              "      <th>UTILITIES_PROCEED_pct</th>\n",
              "      <th>PAYROLL_PROCEED_pct</th>\n",
              "      <th>MORTGAGE_INTEREST_PROCEED_pct</th>\n",
              "      <th>RENT_PROCEED_pct</th>\n",
              "      <th>REFINANCE_EIDL_PROCEED_pct</th>\n",
              "      <th>HEALTH_CARE_PROCEED_pct</th>\n",
              "      <th>DEBT_INTEREST_PROCEED_pct</th>\n",
              "      <th>PROCEED_Per_Job</th>\n",
              "    </tr>\n",
              "  </thead>\n",
              "  <tbody>\n",
              "    <tr>\n",
              "      <th>count</th>\n",
              "      <td>1.287400e+04</td>\n",
              "      <td>12874.000000</td>\n",
              "      <td>12874.000000</td>\n",
              "      <td>12874.0</td>\n",
              "      <td>1.287400e+04</td>\n",
              "      <td>1.287400e+04</td>\n",
              "      <td>12873.0</td>\n",
              "      <td>12873.000000</td>\n",
              "      <td>12873.000000</td>\n",
              "      <td>12873.000000</td>\n",
              "      <td>...</td>\n",
              "      <td>1.287300e+04</td>\n",
              "      <td>1.287300e+04</td>\n",
              "      <td>12873.000000</td>\n",
              "      <td>12873.000000</td>\n",
              "      <td>12873.000000</td>\n",
              "      <td>12873.000000</td>\n",
              "      <td>12873.000000</td>\n",
              "      <td>12873.000000</td>\n",
              "      <td>12873.000000</td>\n",
              "      <td>12873.000000</td>\n",
              "    </tr>\n",
              "    <tr>\n",
              "      <th>mean</th>\n",
              "      <td>5.554688e+09</td>\n",
              "      <td>588.138185</td>\n",
              "      <td>35.114417</td>\n",
              "      <td>100.0</td>\n",
              "      <td>5.290098e+05</td>\n",
              "      <td>5.299563e+05</td>\n",
              "      <td>0.0</td>\n",
              "      <td>152109.891634</td>\n",
              "      <td>52.855356</td>\n",
              "      <td>499379.320127</td>\n",
              "      <td>...</td>\n",
              "      <td>5.299969e+05</td>\n",
              "      <td>5.607092e-01</td>\n",
              "      <td>0.011520</td>\n",
              "      <td>0.968092</td>\n",
              "      <td>0.004423</td>\n",
              "      <td>0.010336</td>\n",
              "      <td>0.000539</td>\n",
              "      <td>0.003798</td>\n",
              "      <td>0.001292</td>\n",
              "      <td>11887.611575</td>\n",
              "    </tr>\n",
              "    <tr>\n",
              "      <th>std</th>\n",
              "      <td>2.481897e+09</td>\n",
              "      <td>253.475458</td>\n",
              "      <td>16.674447</td>\n",
              "      <td>0.0</td>\n",
              "      <td>7.277878e+05</td>\n",
              "      <td>7.284635e+05</td>\n",
              "      <td>0.0</td>\n",
              "      <td>180134.728570</td>\n",
              "      <td>64.976752</td>\n",
              "      <td>183737.173642</td>\n",
              "      <td>...</td>\n",
              "      <td>7.284769e+05</td>\n",
              "      <td>1.237077e+00</td>\n",
              "      <td>0.052738</td>\n",
              "      <td>0.091036</td>\n",
              "      <td>0.032597</td>\n",
              "      <td>0.037358</td>\n",
              "      <td>0.021722</td>\n",
              "      <td>0.025342</td>\n",
              "      <td>0.010291</td>\n",
              "      <td>13251.999855</td>\n",
              "    </tr>\n",
              "    <tr>\n",
              "      <th>min</th>\n",
              "      <td>1.000627e+09</td>\n",
              "      <td>101.000000</td>\n",
              "      <td>2.000000</td>\n",
              "      <td>100.0</td>\n",
              "      <td>1.700600e+04</td>\n",
              "      <td>1.000000e+00</td>\n",
              "      <td>0.0</td>\n",
              "      <td>20.000000</td>\n",
              "      <td>1.000000</td>\n",
              "      <td>81.000000</td>\n",
              "      <td>...</td>\n",
              "      <td>1.499960e+05</td>\n",
              "      <td>-2.328306e-10</td>\n",
              "      <td>0.000000</td>\n",
              "      <td>0.000000</td>\n",
              "      <td>0.000000</td>\n",
              "      <td>0.000000</td>\n",
              "      <td>0.000000</td>\n",
              "      <td>0.000000</td>\n",
              "      <td>0.000000</td>\n",
              "      <td>0.000000</td>\n",
              "    </tr>\n",
              "    <tr>\n",
              "      <th>25%</th>\n",
              "      <td>3.605138e+09</td>\n",
              "      <td>459.000000</td>\n",
              "      <td>24.000000</td>\n",
              "      <td>100.0</td>\n",
              "      <td>2.064005e+05</td>\n",
              "      <td>2.067027e+05</td>\n",
              "      <td>0.0</td>\n",
              "      <td>3498.000000</td>\n",
              "      <td>19.000000</td>\n",
              "      <td>333249.000000</td>\n",
              "      <td>...</td>\n",
              "      <td>2.067067e+05</td>\n",
              "      <td>0.000000e+00</td>\n",
              "      <td>0.000000</td>\n",
              "      <td>1.000000</td>\n",
              "      <td>0.000000</td>\n",
              "      <td>0.000000</td>\n",
              "      <td>0.000000</td>\n",
              "      <td>0.000000</td>\n",
              "      <td>0.000000</td>\n",
              "      <td>7482.760000</td>\n",
              "    </tr>\n",
              "    <tr>\n",
              "      <th>50%</th>\n",
              "      <td>5.577797e+09</td>\n",
              "      <td>459.000000</td>\n",
              "      <td>24.000000</td>\n",
              "      <td>100.0</td>\n",
              "      <td>3.010000e+05</td>\n",
              "      <td>3.016660e+05</td>\n",
              "      <td>0.0</td>\n",
              "      <td>45120.000000</td>\n",
              "      <td>31.000000</td>\n",
              "      <td>532289.000000</td>\n",
              "      <td>...</td>\n",
              "      <td>3.016694e+05</td>\n",
              "      <td>0.000000e+00</td>\n",
              "      <td>0.000000</td>\n",
              "      <td>1.000000</td>\n",
              "      <td>0.000000</td>\n",
              "      <td>0.000000</td>\n",
              "      <td>0.000000</td>\n",
              "      <td>0.000000</td>\n",
              "      <td>0.000000</td>\n",
              "      <td>10468.890000</td>\n",
              "    </tr>\n",
              "    <tr>\n",
              "      <th>75%</th>\n",
              "      <td>7.498411e+09</td>\n",
              "      <td>459.000000</td>\n",
              "      <td>60.000000</td>\n",
              "      <td>100.0</td>\n",
              "      <td>5.410853e+05</td>\n",
              "      <td>5.436081e+05</td>\n",
              "      <td>0.0</td>\n",
              "      <td>434138.000000</td>\n",
              "      <td>56.000000</td>\n",
              "      <td>621399.000000</td>\n",
              "      <td>...</td>\n",
              "      <td>5.436775e+05</td>\n",
              "      <td>0.000000e+00</td>\n",
              "      <td>0.000000</td>\n",
              "      <td>1.000000</td>\n",
              "      <td>0.000000</td>\n",
              "      <td>0.000000</td>\n",
              "      <td>0.000000</td>\n",
              "      <td>0.000000</td>\n",
              "      <td>0.000000</td>\n",
              "      <td>14125.000000</td>\n",
              "    </tr>\n",
              "    <tr>\n",
              "      <th>max</th>\n",
              "      <td>9.997917e+09</td>\n",
              "      <td>1084.000000</td>\n",
              "      <td>60.000000</td>\n",
              "      <td>100.0</td>\n",
              "      <td>1.000000e+07</td>\n",
              "      <td>1.000000e+07</td>\n",
              "      <td>0.0</td>\n",
              "      <td>530323.000000</td>\n",
              "      <td>500.000000</td>\n",
              "      <td>999990.000000</td>\n",
              "      <td>...</td>\n",
              "      <td>1.000000e+07</td>\n",
              "      <td>6.000000e+00</td>\n",
              "      <td>1.000000</td>\n",
              "      <td>1.000000</td>\n",
              "      <td>1.000000</td>\n",
              "      <td>1.000000</td>\n",
              "      <td>1.000000</td>\n",
              "      <td>1.000000</td>\n",
              "      <td>0.344000</td>\n",
              "      <td>856269.600000</td>\n",
              "    </tr>\n",
              "  </tbody>\n",
              "</table>\n",
              "<p>8 rows × 32 columns</p>\n",
              "</div>\n",
              "      <button class=\"colab-df-convert\" onclick=\"convertToInteractive('df-afa5442b-b49c-41cb-a503-6a5c59ecd49c')\"\n",
              "              title=\"Convert this dataframe to an interactive table.\"\n",
              "              style=\"display:none;\">\n",
              "        \n",
              "  <svg xmlns=\"http://www.w3.org/2000/svg\" height=\"24px\"viewBox=\"0 0 24 24\"\n",
              "       width=\"24px\">\n",
              "    <path d=\"M0 0h24v24H0V0z\" fill=\"none\"/>\n",
              "    <path d=\"M18.56 5.44l.94 2.06.94-2.06 2.06-.94-2.06-.94-.94-2.06-.94 2.06-2.06.94zm-11 1L8.5 8.5l.94-2.06 2.06-.94-2.06-.94L8.5 2.5l-.94 2.06-2.06.94zm10 10l.94 2.06.94-2.06 2.06-.94-2.06-.94-.94-2.06-.94 2.06-2.06.94z\"/><path d=\"M17.41 7.96l-1.37-1.37c-.4-.4-.92-.59-1.43-.59-.52 0-1.04.2-1.43.59L10.3 9.45l-7.72 7.72c-.78.78-.78 2.05 0 2.83L4 21.41c.39.39.9.59 1.41.59.51 0 1.02-.2 1.41-.59l7.78-7.78 2.81-2.81c.8-.78.8-2.07 0-2.86zM5.41 20L4 18.59l7.72-7.72 1.47 1.35L5.41 20z\"/>\n",
              "  </svg>\n",
              "      </button>\n",
              "      \n",
              "  <style>\n",
              "    .colab-df-container {\n",
              "      display:flex;\n",
              "      flex-wrap:wrap;\n",
              "      gap: 12px;\n",
              "    }\n",
              "\n",
              "    .colab-df-convert {\n",
              "      background-color: #E8F0FE;\n",
              "      border: none;\n",
              "      border-radius: 50%;\n",
              "      cursor: pointer;\n",
              "      display: none;\n",
              "      fill: #1967D2;\n",
              "      height: 32px;\n",
              "      padding: 0 0 0 0;\n",
              "      width: 32px;\n",
              "    }\n",
              "\n",
              "    .colab-df-convert:hover {\n",
              "      background-color: #E2EBFA;\n",
              "      box-shadow: 0px 1px 2px rgba(60, 64, 67, 0.3), 0px 1px 3px 1px rgba(60, 64, 67, 0.15);\n",
              "      fill: #174EA6;\n",
              "    }\n",
              "\n",
              "    [theme=dark] .colab-df-convert {\n",
              "      background-color: #3B4455;\n",
              "      fill: #D2E3FC;\n",
              "    }\n",
              "\n",
              "    [theme=dark] .colab-df-convert:hover {\n",
              "      background-color: #434B5C;\n",
              "      box-shadow: 0px 1px 3px 1px rgba(0, 0, 0, 0.15);\n",
              "      filter: drop-shadow(0px 1px 2px rgba(0, 0, 0, 0.3));\n",
              "      fill: #FFFFFF;\n",
              "    }\n",
              "  </style>\n",
              "\n",
              "      <script>\n",
              "        const buttonEl =\n",
              "          document.querySelector('#df-afa5442b-b49c-41cb-a503-6a5c59ecd49c button.colab-df-convert');\n",
              "        buttonEl.style.display =\n",
              "          google.colab.kernel.accessAllowed ? 'block' : 'none';\n",
              "\n",
              "        async function convertToInteractive(key) {\n",
              "          const element = document.querySelector('#df-afa5442b-b49c-41cb-a503-6a5c59ecd49c');\n",
              "          const dataTable =\n",
              "            await google.colab.kernel.invokeFunction('convertToInteractive',\n",
              "                                                     [key], {});\n",
              "          if (!dataTable) return;\n",
              "\n",
              "          const docLinkHtml = 'Like what you see? Visit the ' +\n",
              "            '<a target=\"_blank\" href=https://colab.research.google.com/notebooks/data_table.ipynb>data table notebook</a>'\n",
              "            + ' to learn more about interactive tables.';\n",
              "          element.innerHTML = '';\n",
              "          dataTable['output_type'] = 'display_data';\n",
              "          await google.colab.output.renderOutput(dataTable, element);\n",
              "          const docLink = document.createElement('div');\n",
              "          docLink.innerHTML = docLinkHtml;\n",
              "          element.appendChild(docLink);\n",
              "        }\n",
              "      </script>\n",
              "    </div>\n",
              "  </div>\n",
              "  "
            ]
          },
          "metadata": {},
          "execution_count": 6
        }
      ]
    },
    {
      "cell_type": "code",
      "source": [
        "a.columns.values\n",
        "b.columns.values\n",
        "c.columns.values"
      ],
      "metadata": {
        "colab": {
          "base_uri": "https://localhost:8080/"
        },
        "id": "GIIFazMXBA45",
        "outputId": "262caf5e-5a6a-48b4-f635-f91b886f1161"
      },
      "execution_count": 8,
      "outputs": [
        {
          "output_type": "execute_result",
          "data": {
            "text/plain": [
              "array(['LoanNumber', 'DateApproved', 'SBAOfficeCode', 'ProcessingMethod',\n",
              "       'BorrowerName', 'BorrowerAddress', 'BorrowerCity', 'BorrowerState',\n",
              "       'BorrowerZip', 'LoanStatusDate', 'LoanStatus', 'Term',\n",
              "       'SBAGuarantyPercentage', 'InitialApprovalAmount',\n",
              "       'CurrentApprovalAmount', 'UndisbursedAmount', 'FranchiseName',\n",
              "       'ServicingLenderLocationID', 'ServicingLenderName',\n",
              "       'ServicingLenderAddress', 'ServicingLenderCity',\n",
              "       'ServicingLenderState', 'ServicingLenderZip',\n",
              "       'RuralUrbanIndicator', 'HubzoneIndicator', 'LMIIndicator',\n",
              "       'BusinessAgeDescription', 'ProjectCity', 'ProjectCountyName',\n",
              "       'ProjectState', 'ProjectZip', 'CD', 'JobsReported', 'NAICSCode',\n",
              "       'Race', 'Ethnicity', 'UTILITIES_PROCEED', 'PAYROLL_PROCEED',\n",
              "       'MORTGAGE_INTEREST_PROCEED', 'RENT_PROCEED',\n",
              "       'REFINANCE_EIDL_PROCEED', 'HEALTH_CARE_PROCEED',\n",
              "       'DEBT_INTEREST_PROCEED', 'BusinessType',\n",
              "       'OriginatingLenderLocationID', 'OriginatingLender',\n",
              "       'OriginatingLenderCity', 'OriginatingLenderState', 'Gender',\n",
              "       'Veteran', 'NonProfit', 'ForgivenessAmount', 'ForgivenessDate',\n",
              "       'ApprovalDiff', 'NotForgivenAmount', 'ForgivenPercentage',\n",
              "       'TOTAL_PROCEED', 'PROCEED_Diff', 'UTILITIES_PROCEED_pct',\n",
              "       'PAYROLL_PROCEED_pct', 'MORTGAGE_INTEREST_PROCEED_pct',\n",
              "       'RENT_PROCEED_pct', 'REFINANCE_EIDL_PROCEED_pct',\n",
              "       'HEALTH_CARE_PROCEED_pct', 'DEBT_INTEREST_PROCEED_pct',\n",
              "       'PROCEED_Per_Job'], dtype=object)"
            ]
          },
          "metadata": {},
          "execution_count": 8
        }
      ]
    },
    {
      "cell_type": "code",
      "source": [
        "a.duplicated().sum()\n",
        "b.duplicated().sum()\n",
        "c.duplicated().sum()"
      ],
      "metadata": {
        "colab": {
          "base_uri": "https://localhost:8080/"
        },
        "id": "W5T4snSkBMsN",
        "outputId": "1b87fb57-c7c3-457f-f59f-87379990bd37"
      },
      "execution_count": 9,
      "outputs": [
        {
          "output_type": "execute_result",
          "data": {
            "text/plain": [
              "0"
            ]
          },
          "metadata": {},
          "execution_count": 9
        }
      ]
    },
    {
      "cell_type": "markdown",
      "source": [
        "**VISUAL EXPLORATORY DATA ANALYSIS** "
      ],
      "metadata": {
        "id": "hdPdcR_yBovF"
      }
    },
    {
      "cell_type": "markdown",
      "source": [
        "**BAR PLOT**"
      ],
      "metadata": {
        "id": "aWXG_ofxBuJA"
      }
    },
    {
      "cell_type": "code",
      "source": [
        "sns.barplot(data=c,x=\"Term\",y=\"InitialApprovalAmount\")"
      ],
      "metadata": {
        "colab": {
          "base_uri": "https://localhost:8080/",
          "height": 307
        },
        "id": "q72h19yM_Xb7",
        "outputId": "584faa75-b014-4e0d-b35f-906defed784c"
      },
      "execution_count": 10,
      "outputs": [
        {
          "output_type": "execute_result",
          "data": {
            "text/plain": [
              "<matplotlib.axes._subplots.AxesSubplot at 0x7f46ca5ea2d0>"
            ]
          },
          "metadata": {},
          "execution_count": 10
        },
        {
          "output_type": "display_data",
          "data": {
            "text/plain": [
              "<Figure size 432x288 with 1 Axes>"
            ],
            "image/png": "[encoded data removed]"
          },
          "metadata": {
            "needs_background": "light"
          }
        }
      ]
    },
    {
      "cell_type": "markdown",
      "source": [
        "**HEAT MAP**"
      ],
      "metadata": {
        "id": "dTSKmIAwK8KT"
      }
    },
    {
      "cell_type": "code",
      "source": [
        "sns.heatmap(b.isnull())"
      ],
      "metadata": {
        "colab": {
          "base_uri": "https://localhost:8080/",
          "height": 286
        },
        "id": "UI0L0UlnB1qu",
        "outputId": "68961057-5755-47d8-8de3-380fcdb21e0f"
      },
      "execution_count": 11,
      "outputs": [
        {
          "output_type": "execute_result",
          "data": {
            "text/plain": [
              "<matplotlib.axes._subplots.AxesSubplot at 0x7f46ca494c90>"
            ]
          },
          "metadata": {},
          "execution_count": 11
        },
        {
          "output_type": "display_data",
          "data": {
            "text/plain": [
              "<Figure size 432x288 with 2 Axes>"
            ],
            "image/png": "[encoded data removed]"
          },
          "metadata": {
            "needs_background": "light"
          }
        }
      ]
    },
    {
      "cell_type": "markdown",
      "source": [
        "**LINE PLOT**"
      ],
      "metadata": {
        "id": "OX4jGur1LDSA"
      }
    },
    {
      "cell_type": "code",
      "source": [
        "sns.lineplot(data=c,x=\"InitialApprovalAmount\",y=\"CurrentApprovalAmount\")\n",
        "plt.show()"
      ],
      "metadata": {
        "colab": {
          "base_uri": "https://localhost:8080/",
          "height": 290
        },
        "id": "lDd8DjoUCI1f",
        "outputId": "1deb3072-3ec9-462d-de8b-22092b10a51f"
      },
      "execution_count": 27,
      "outputs": [
        {
          "output_type": "display_data",
          "data": {
            "text/plain": [
              "<Figure size 432x288 with 1 Axes>"
            ],
            "image/png": "[encoded data removed]"
          },
          "metadata": {
            "needs_background": "light"
          }
        }
      ]
    },
    {
      "cell_type": "markdown",
      "source": [
        "**COUNT PLOT**"
      ],
      "metadata": {
        "id": "2jVkmaGOLMR6"
      }
    },
    {
      "cell_type": "code",
      "source": [
        "sns.set_style('darkgrid')\n",
        "sns.countplot(x=\"SBAGuarantyPercentage\",hue=\"SBAOfficeCode\",data=c,palette=\"BuGn\")"
      ],
      "metadata": {
        "colab": {
          "base_uri": "https://localhost:8080/",
          "height": 296
        },
        "id": "Gp2nP8zPCxV4",
        "outputId": "37f6356f-8fc0-442e-8d06-22927bf87376"
      },
      "execution_count": 29,
      "outputs": [
        {
          "output_type": "execute_result",
          "data": {
            "text/plain": [
              "<matplotlib.axes._subplots.AxesSubplot at 0x7f46c5b671d0>"
            ]
          },
          "metadata": {},
          "execution_count": 29
        },
        {
          "output_type": "display_data",
          "data": {
            "text/plain": [
              "<Figure size 432x288 with 1 Axes>"
            ],
            "image/png": "[encoded data removed]"
          },
          "metadata": {}
        }
      ]
    },
    {
      "cell_type": "markdown",
      "source": [
        "**DIST PLOT**"
      ],
      "metadata": {
        "id": "NpErvLSJLR32"
      }
    },
    {
      "cell_type": "code",
      "source": [
        "sns.distplot(c['ForgivenPercentage'].dropna(),color=\"blue\",bins=10)"
      ],
      "metadata": {
        "id": "dwa8sYY_D3gf",
        "colab": {
          "base_uri": "https://localhost:8080/",
          "height": 351
        },
        "outputId": "55d209f9-4674-470a-c293-47703507aca6"
      },
      "execution_count": 35,
      "outputs": [
        {
          "output_type": "stream",
          "name": "stderr",
          "text": [
            "/usr/local/lib/python3.7/dist-packages/seaborn/distributions.py:2619: FutureWarning: `distplot` is a deprecated function and will be removed in a future version. Please adapt your code to use either `displot` (a figure-level function with similar flexibility) or `histplot` (an axes-level function for histograms).\n",
            "  warnings.warn(msg, FutureWarning)\n"
          ]
        },
        {
          "output_type": "execute_result",
          "data": {
            "text/plain": [
              "<matplotlib.axes._subplots.AxesSubplot at 0x7f46c381d310>"
            ]
          },
          "metadata": {},
          "execution_count": 35
        },
        {
          "output_type": "display_data",
          "data": {
            "text/plain": [
              "<Figure size 432x288 with 1 Axes>"
            ],
            "image/png": "[encoded data removed]"
          },
          "metadata": {}
        }
      ]
    },
    {
      "cell_type": "markdown",
      "source": [
        "**BOX PLOT**"
      ],
      "metadata": {
        "id": "ZL7hrMVILYCD"
      }
    },
    {
      "cell_type": "code",
      "source": [
        "plt.figure(figsize=(10,8))\n",
        "sns.boxplot(x=\"SBAOfficeCode\",y=\"PAYROLL_PROCEED_pct\",data=c)"
      ],
      "metadata": {
        "colab": {
          "base_uri": "https://localhost:8080/",
          "height": 514
        },
        "id": "ziyhgTSaGEAH",
        "outputId": "52559bd3-669e-46f3-9e33-7b8f6585083b"
      },
      "execution_count": 31,
      "outputs": [
        {
          "output_type": "execute_result",
          "data": {
            "text/plain": [
              "<matplotlib.axes._subplots.AxesSubplot at 0x7f46c5978590>"
            ]
          },
          "metadata": {},
          "execution_count": 31
        },
        {
          "output_type": "display_data",
          "data": {
            "text/plain": [
              "<Figure size 720x576 with 1 Axes>"
            ],
            "image/png": "[encoded data removed]"
          },
          "metadata": {}
        }
      ]
    },
    {
      "cell_type": "markdown",
      "source": [
        "**SCATTER PLOT**"
      ],
      "metadata": {
        "id": "aQ9yTxbeLeta"
      }
    },
    {
      "cell_type": "code",
      "source": [
        "plt.figure(figsize=(6,6))\n",
        "sns.scatterplot(x=\"SBAOfficeCode\",y=\"PROCEED_Diff\",data=c)"
      ],
      "metadata": {
        "colab": {
          "base_uri": "https://localhost:8080/",
          "height": 405
        },
        "id": "oKf8sDhhHItH",
        "outputId": "67d538df-4b0e-43be-c872-805d4836989e"
      },
      "execution_count": 32,
      "outputs": [
        {
          "output_type": "execute_result",
          "data": {
            "text/plain": [
              "<matplotlib.axes._subplots.AxesSubplot at 0x7f46c3813d90>"
            ]
          },
          "metadata": {},
          "execution_count": 32
        },
        {
          "output_type": "display_data",
          "data": {
            "text/plain": [
              "<Figure size 432x432 with 1 Axes>"
            ],
            "image/png": "[encoded data removed]"
          },
          "metadata": {}
        }
      ]
    }
  ]
}